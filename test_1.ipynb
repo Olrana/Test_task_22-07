{
 "cells": [
  {
   "cell_type": "code",
   "execution_count": 1,
   "id": "961cfb9a",
   "metadata": {},
   "outputs": [],
   "source": [
    "import numpy as np\n",
    "import pandas as pd\n",
    "import math\n",
    "import matplotlib.pyplot as plt\n",
    "import seaborn as sns"
   ]
  },
  {
   "cell_type": "code",
   "execution_count": 4,
   "id": "21fbdee1",
   "metadata": {},
   "outputs": [],
   "source": [
    "path_to_file = 'C:/Users/olran/Desktop/test1.xlsx'"
   ]
  },
  {
   "cell_type": "code",
   "execution_count": 42,
   "id": "498b0349",
   "metadata": {
    "scrolled": false
   },
   "outputs": [],
   "source": [
    "xl = pd.ExcelFile(path_to_file)\n",
    "df_test1 = xl.parse('Аркуш1')"
   ]
  },
  {
   "cell_type": "code",
   "execution_count": 33,
   "id": "21875138",
   "metadata": {},
   "outputs": [],
   "source": [
    "num_of_customers_by_serv = df_test1.groupby('Service_Name')['id'].count()\n",
    "# Кількість користувачів, погрупована за сервісами"
   ]
  },
  {
   "cell_type": "code",
   "execution_count": 36,
   "id": "a8eaefba",
   "metadata": {},
   "outputs": [],
   "source": [
    "num_of_customers_by_platf = df_test1.groupby('Platform')['id'].count()\n",
    "# Кількість користувачів, погрупована за платформами"
   ]
  },
  {
   "cell_type": "code",
   "execution_count": 39,
   "id": "1de7f20d",
   "metadata": {},
   "outputs": [],
   "source": [
    "net_sum_by_serv = df_test1.groupby('Service_Name')['Net'].sum()\n",
    "# Сума прибутку для кожного з сервісів"
   ]
  },
  {
   "cell_type": "code",
   "execution_count": 38,
   "id": "0758c7bc",
   "metadata": {},
   "outputs": [],
   "source": [
    "net_sum_by_platf = df_test1.groupby('Platform')['Net'].sum()\n",
    "# Сума прибутку  для кожної з платформ"
   ]
  },
  {
   "cell_type": "code",
   "execution_count": 40,
   "id": "b8a2e0dc",
   "metadata": {},
   "outputs": [
    {
     "data": {
      "text/plain": [
       "Platform\n",
       "android     3.990351\n",
       "desktop     3.139397\n",
       "ios        10.129836\n",
       "mobile      6.090370\n",
       "dtype: float64"
      ]
     },
     "execution_count": 40,
     "metadata": {},
     "output_type": "execute_result"
    }
   ],
   "source": [
    "net_sum_by_platf/num_of_customers_by_platf"
   ]
  },
  {
   "cell_type": "code",
   "execution_count": 41,
   "id": "78b10b9d",
   "metadata": {},
   "outputs": [
    {
     "data": {
      "text/plain": [
       "Service_Name\n",
       "name_1    6.056185\n",
       "name_2    6.399005\n",
       "name_3    4.594211\n",
       "name_4    1.702714\n",
       "name_5    0.168449\n",
       "name_6    4.205487\n",
       "name_7    1.034135\n",
       "name_8    9.754568\n",
       "dtype: float64"
      ]
     },
     "execution_count": 41,
     "metadata": {},
     "output_type": "execute_result"
    }
   ],
   "source": [
    "net_sum_by_serv/num_of_customers_by_serv"
   ]
  },
  {
   "cell_type": "code",
   "execution_count": null,
   "id": "9ac842d7",
   "metadata": {},
   "outputs": [],
   "source": []
  }
 ],
 "metadata": {
  "kernelspec": {
   "display_name": "Python 3 (ipykernel)",
   "language": "python",
   "name": "python3"
  },
  "language_info": {
   "codemirror_mode": {
    "name": "ipython",
    "version": 3
   },
   "file_extension": ".py",
   "mimetype": "text/x-python",
   "name": "python",
   "nbconvert_exporter": "python",
   "pygments_lexer": "ipython3",
   "version": "3.11.5"
  }
 },
 "nbformat": 4,
 "nbformat_minor": 5
}
