{
 "cells": [
  {
   "cell_type": "code",
   "execution_count": 26,
   "id": "0c596fc7",
   "metadata": {},
   "outputs": [],
   "source": [
    "import numpy as np\n",
    "import pandas as pd\n",
    "import math\n",
    "import matplotlib.pyplot as plt\n",
    "import seaborn as sns"
   ]
  },
  {
   "cell_type": "code",
   "execution_count": 27,
   "id": "07dec0aa",
   "metadata": {},
   "outputs": [],
   "source": [
    "path_to_file = 'C:/Users/olran/Desktop/test4.xlsx'"
   ]
  },
  {
   "cell_type": "code",
   "execution_count": 28,
   "id": "c8f6bb8f",
   "metadata": {},
   "outputs": [],
   "source": [
    "xl = pd.ExcelFile(path_to_file)\n",
    "df_test4 = xl.parse('Аркуш1')"
   ]
  },
  {
   "cell_type": "code",
   "execution_count": 29,
   "id": "22c4bf3e",
   "metadata": {},
   "outputs": [
    {
     "data": {
      "text/plain": [
       "rd             datetime64[ns]\n",
       "customer_id             int64\n",
       "TD                     object\n",
       "revenue_usd            object\n",
       "dtype: object"
      ]
     },
     "metadata": {},
     "output_type": "display_data"
    },
    {
     "data": {
      "text/plain": [
       "(4287, 4)"
      ]
     },
     "metadata": {},
     "output_type": "display_data"
    }
   ],
   "source": [
    "display( df_test4.dtypes, df_test4.shape)"
   ]
  },
  {
   "cell_type": "code",
   "execution_count": 30,
   "id": "5678625f",
   "metadata": {},
   "outputs": [
    {
     "data": {
      "text/html": [
       "<div>\n",
       "<style scoped>\n",
       "    .dataframe tbody tr th:only-of-type {\n",
       "        vertical-align: middle;\n",
       "    }\n",
       "\n",
       "    .dataframe tbody tr th {\n",
       "        vertical-align: top;\n",
       "    }\n",
       "\n",
       "    .dataframe thead th {\n",
       "        text-align: right;\n",
       "    }\n",
       "</style>\n",
       "<table border=\"1\" class=\"dataframe\">\n",
       "  <thead>\n",
       "    <tr style=\"text-align: right;\">\n",
       "      <th></th>\n",
       "      <th>rd</th>\n",
       "      <th>customer_id</th>\n",
       "      <th>TD</th>\n",
       "      <th>revenue_usd</th>\n",
       "    </tr>\n",
       "  </thead>\n",
       "  <tbody>\n",
       "    <tr>\n",
       "      <th>0</th>\n",
       "      <td>2017-11-24</td>\n",
       "      <td>981511946</td>\n",
       "      <td>2018-05-22 00:00:00</td>\n",
       "      <td>4.621145</td>\n",
       "    </tr>\n",
       "    <tr>\n",
       "      <th>1</th>\n",
       "      <td>2017-11-24</td>\n",
       "      <td>981511946</td>\n",
       "      <td>2019-06-08 00:00:00</td>\n",
       "      <td>4.622467</td>\n",
       "    </tr>\n",
       "    <tr>\n",
       "      <th>2</th>\n",
       "      <td>2017-11-24</td>\n",
       "      <td>981511946</td>\n",
       "      <td>2018-05-14 00:00:00</td>\n",
       "      <td>0</td>\n",
       "    </tr>\n",
       "    <tr>\n",
       "      <th>3</th>\n",
       "      <td>2017-11-24</td>\n",
       "      <td>981511949</td>\n",
       "      <td>(null)</td>\n",
       "      <td>(null)</td>\n",
       "    </tr>\n",
       "    <tr>\n",
       "      <th>4</th>\n",
       "      <td>2017-11-24</td>\n",
       "      <td>981511950</td>\n",
       "      <td>(null)</td>\n",
       "      <td>(null)</td>\n",
       "    </tr>\n",
       "    <tr>\n",
       "      <th>...</th>\n",
       "      <td>...</td>\n",
       "      <td>...</td>\n",
       "      <td>...</td>\n",
       "      <td>...</td>\n",
       "    </tr>\n",
       "    <tr>\n",
       "      <th>4282</th>\n",
       "      <td>2019-05-11</td>\n",
       "      <td>981516228</td>\n",
       "      <td>(null)</td>\n",
       "      <td>(null)</td>\n",
       "    </tr>\n",
       "    <tr>\n",
       "      <th>4283</th>\n",
       "      <td>2019-05-11</td>\n",
       "      <td>981516229</td>\n",
       "      <td>(null)</td>\n",
       "      <td>(null)</td>\n",
       "    </tr>\n",
       "    <tr>\n",
       "      <th>4284</th>\n",
       "      <td>2019-05-11</td>\n",
       "      <td>981516230</td>\n",
       "      <td>(null)</td>\n",
       "      <td>(null)</td>\n",
       "    </tr>\n",
       "    <tr>\n",
       "      <th>4285</th>\n",
       "      <td>2019-05-11</td>\n",
       "      <td>981516231</td>\n",
       "      <td>(null)</td>\n",
       "      <td>(null)</td>\n",
       "    </tr>\n",
       "    <tr>\n",
       "      <th>4286</th>\n",
       "      <td>2019-05-11</td>\n",
       "      <td>981516232</td>\n",
       "      <td>(null)</td>\n",
       "      <td>(null)</td>\n",
       "    </tr>\n",
       "  </tbody>\n",
       "</table>\n",
       "<p>4287 rows × 4 columns</p>\n",
       "</div>"
      ],
      "text/plain": [
       "             rd  customer_id                   TD revenue_usd\n",
       "0    2017-11-24    981511946  2018-05-22 00:00:00    4.621145\n",
       "1    2017-11-24    981511946  2019-06-08 00:00:00    4.622467\n",
       "2    2017-11-24    981511946  2018-05-14 00:00:00           0\n",
       "3    2017-11-24    981511949               (null)      (null)\n",
       "4    2017-11-24    981511950               (null)      (null)\n",
       "...         ...          ...                  ...         ...\n",
       "4282 2019-05-11    981516228               (null)      (null)\n",
       "4283 2019-05-11    981516229               (null)      (null)\n",
       "4284 2019-05-11    981516230               (null)      (null)\n",
       "4285 2019-05-11    981516231               (null)      (null)\n",
       "4286 2019-05-11    981516232               (null)      (null)\n",
       "\n",
       "[4287 rows x 4 columns]"
      ]
     },
     "execution_count": 30,
     "metadata": {},
     "output_type": "execute_result"
    }
   ],
   "source": [
    "df_test4"
   ]
  },
  {
   "cell_type": "code",
   "execution_count": 31,
   "id": "c7c47c9c",
   "metadata": {},
   "outputs": [],
   "source": [
    "df_test4['TD'].replace('null', pd.NA, inplace=True)\n",
    "df_test4['TD'] = pd.to_datetime(df_test4['TD'], errors='coerce')\n",
    "\n",
    "df_test4['revenue_usd'].replace('null', pd.NA, inplace=True)\n",
    "df_test4['revenue_usd'] = pd.to_numeric(df_test4['revenue_usd'], errors='coerce')"
   ]
  },
  {
   "cell_type": "code",
   "execution_count": 32,
   "id": "c522ea9e",
   "metadata": {},
   "outputs": [
    {
     "data": {
      "text/plain": [
       "rd             datetime64[ns]\n",
       "customer_id             int64\n",
       "TD             datetime64[ns]\n",
       "revenue_usd           float64\n",
       "dtype: object"
      ]
     },
     "metadata": {},
     "output_type": "display_data"
    },
    {
     "data": {
      "text/plain": [
       "(4287, 4)"
      ]
     },
     "metadata": {},
     "output_type": "display_data"
    }
   ],
   "source": [
    "display( df_test4.dtypes, df_test4.shape)"
   ]
  },
  {
   "cell_type": "code",
   "execution_count": 33,
   "id": "deafaee5",
   "metadata": {},
   "outputs": [],
   "source": [
    "df_filtered = df_test4.dropna(subset=['TD', 'revenue_usd'])\n",
    "#df_filtered = df_filtered.loc[df_filtered['revenue_usd'] != 0]\n",
    "#Варто пофільтрувати неактуальні дані, для того щоб не виникало помилок, в даному випадку нецікавими є користувачі, які не здійснили жодної покупки з дати реєстрації"
   ]
  },
  {
   "cell_type": "code",
   "execution_count": 34,
   "id": "9b8e073a",
   "metadata": {},
   "outputs": [
    {
     "data": {
      "text/html": [
       "<div>\n",
       "<style scoped>\n",
       "    .dataframe tbody tr th:only-of-type {\n",
       "        vertical-align: middle;\n",
       "    }\n",
       "\n",
       "    .dataframe tbody tr th {\n",
       "        vertical-align: top;\n",
       "    }\n",
       "\n",
       "    .dataframe thead th {\n",
       "        text-align: right;\n",
       "    }\n",
       "</style>\n",
       "<table border=\"1\" class=\"dataframe\">\n",
       "  <thead>\n",
       "    <tr style=\"text-align: right;\">\n",
       "      <th></th>\n",
       "      <th>rd</th>\n",
       "      <th>customer_id</th>\n",
       "      <th>TD</th>\n",
       "      <th>revenue_usd</th>\n",
       "    </tr>\n",
       "  </thead>\n",
       "  <tbody>\n",
       "    <tr>\n",
       "      <th>0</th>\n",
       "      <td>2017-11-24</td>\n",
       "      <td>981511946</td>\n",
       "      <td>2018-05-22</td>\n",
       "      <td>4.621145</td>\n",
       "    </tr>\n",
       "    <tr>\n",
       "      <th>1</th>\n",
       "      <td>2017-11-24</td>\n",
       "      <td>981511946</td>\n",
       "      <td>2019-06-08</td>\n",
       "      <td>4.622467</td>\n",
       "    </tr>\n",
       "    <tr>\n",
       "      <th>2</th>\n",
       "      <td>2017-11-24</td>\n",
       "      <td>981511946</td>\n",
       "      <td>2018-05-14</td>\n",
       "      <td>0.000000</td>\n",
       "    </tr>\n",
       "    <tr>\n",
       "      <th>15</th>\n",
       "      <td>2017-11-28</td>\n",
       "      <td>981511961</td>\n",
       "      <td>2018-01-29</td>\n",
       "      <td>4.621145</td>\n",
       "    </tr>\n",
       "    <tr>\n",
       "      <th>20</th>\n",
       "      <td>2017-11-30</td>\n",
       "      <td>981511966</td>\n",
       "      <td>2018-07-07</td>\n",
       "      <td>0.000000</td>\n",
       "    </tr>\n",
       "    <tr>\n",
       "      <th>...</th>\n",
       "      <td>...</td>\n",
       "      <td>...</td>\n",
       "      <td>...</td>\n",
       "      <td>...</td>\n",
       "    </tr>\n",
       "    <tr>\n",
       "      <th>4245</th>\n",
       "      <td>2019-05-06</td>\n",
       "      <td>981516190</td>\n",
       "      <td>2019-05-06</td>\n",
       "      <td>0.000000</td>\n",
       "    </tr>\n",
       "    <tr>\n",
       "      <th>4246</th>\n",
       "      <td>2019-05-06</td>\n",
       "      <td>981516190</td>\n",
       "      <td>2019-05-15</td>\n",
       "      <td>4.622467</td>\n",
       "    </tr>\n",
       "    <tr>\n",
       "      <th>4250</th>\n",
       "      <td>2019-05-06</td>\n",
       "      <td>981516196</td>\n",
       "      <td>2019-05-06</td>\n",
       "      <td>0.000000</td>\n",
       "    </tr>\n",
       "    <tr>\n",
       "      <th>4268</th>\n",
       "      <td>2019-05-09</td>\n",
       "      <td>981516214</td>\n",
       "      <td>2019-05-09</td>\n",
       "      <td>0.000000</td>\n",
       "    </tr>\n",
       "    <tr>\n",
       "      <th>4281</th>\n",
       "      <td>2019-05-11</td>\n",
       "      <td>981516227</td>\n",
       "      <td>2019-05-13</td>\n",
       "      <td>0.000000</td>\n",
       "    </tr>\n",
       "  </tbody>\n",
       "</table>\n",
       "<p>1250 rows × 4 columns</p>\n",
       "</div>"
      ],
      "text/plain": [
       "             rd  customer_id         TD  revenue_usd\n",
       "0    2017-11-24    981511946 2018-05-22     4.621145\n",
       "1    2017-11-24    981511946 2019-06-08     4.622467\n",
       "2    2017-11-24    981511946 2018-05-14     0.000000\n",
       "15   2017-11-28    981511961 2018-01-29     4.621145\n",
       "20   2017-11-30    981511966 2018-07-07     0.000000\n",
       "...         ...          ...        ...          ...\n",
       "4245 2019-05-06    981516190 2019-05-06     0.000000\n",
       "4246 2019-05-06    981516190 2019-05-15     4.622467\n",
       "4250 2019-05-06    981516196 2019-05-06     0.000000\n",
       "4268 2019-05-09    981516214 2019-05-09     0.000000\n",
       "4281 2019-05-11    981516227 2019-05-13     0.000000\n",
       "\n",
       "[1250 rows x 4 columns]"
      ]
     },
     "execution_count": 34,
     "metadata": {},
     "output_type": "execute_result"
    }
   ],
   "source": [
    "df_filtered"
   ]
  },
  {
   "cell_type": "code",
   "execution_count": 40,
   "id": "0d582239",
   "metadata": {},
   "outputs": [
    {
     "data": {
      "text/html": [
       "<div>\n",
       "<style scoped>\n",
       "    .dataframe tbody tr th:only-of-type {\n",
       "        vertical-align: middle;\n",
       "    }\n",
       "\n",
       "    .dataframe tbody tr th {\n",
       "        vertical-align: top;\n",
       "    }\n",
       "\n",
       "    .dataframe thead th {\n",
       "        text-align: right;\n",
       "    }\n",
       "</style>\n",
       "<table border=\"1\" class=\"dataframe\">\n",
       "  <thead>\n",
       "    <tr style=\"text-align: right;\">\n",
       "      <th></th>\n",
       "      <th>customer_id</th>\n",
       "      <th>LTV</th>\n",
       "    </tr>\n",
       "  </thead>\n",
       "  <tbody>\n",
       "    <tr>\n",
       "      <th>0</th>\n",
       "      <td>981511946</td>\n",
       "      <td>4.621145</td>\n",
       "    </tr>\n",
       "    <tr>\n",
       "      <th>1</th>\n",
       "      <td>981511961</td>\n",
       "      <td>4.621145</td>\n",
       "    </tr>\n",
       "    <tr>\n",
       "      <th>2</th>\n",
       "      <td>981512008</td>\n",
       "      <td>8.308370</td>\n",
       "    </tr>\n",
       "    <tr>\n",
       "      <th>3</th>\n",
       "      <td>981512042</td>\n",
       "      <td>0.000000</td>\n",
       "    </tr>\n",
       "    <tr>\n",
       "      <th>4</th>\n",
       "      <td>981512077</td>\n",
       "      <td>2.149780</td>\n",
       "    </tr>\n",
       "    <tr>\n",
       "      <th>...</th>\n",
       "      <td>...</td>\n",
       "      <td>...</td>\n",
       "    </tr>\n",
       "    <tr>\n",
       "      <th>516</th>\n",
       "      <td>981516182</td>\n",
       "      <td>18.489868</td>\n",
       "    </tr>\n",
       "    <tr>\n",
       "      <th>517</th>\n",
       "      <td>981516190</td>\n",
       "      <td>9.244934</td>\n",
       "    </tr>\n",
       "    <tr>\n",
       "      <th>518</th>\n",
       "      <td>981516196</td>\n",
       "      <td>0.000000</td>\n",
       "    </tr>\n",
       "    <tr>\n",
       "      <th>519</th>\n",
       "      <td>981516214</td>\n",
       "      <td>0.000000</td>\n",
       "    </tr>\n",
       "    <tr>\n",
       "      <th>520</th>\n",
       "      <td>981516227</td>\n",
       "      <td>0.000000</td>\n",
       "    </tr>\n",
       "  </tbody>\n",
       "</table>\n",
       "<p>521 rows × 2 columns</p>\n",
       "</div>"
      ],
      "text/plain": [
       "     customer_id        LTV\n",
       "0      981511946   4.621145\n",
       "1      981511961   4.621145\n",
       "2      981512008   8.308370\n",
       "3      981512042   0.000000\n",
       "4      981512077   2.149780\n",
       "..           ...        ...\n",
       "516    981516182  18.489868\n",
       "517    981516190   9.244934\n",
       "518    981516196   0.000000\n",
       "519    981516214   0.000000\n",
       "520    981516227   0.000000\n",
       "\n",
       "[521 rows x 2 columns]"
      ]
     },
     "execution_count": 40,
     "metadata": {},
     "output_type": "execute_result"
    }
   ],
   "source": [
    "start_date = df_filtered['rd']\n",
    "end_date = start_date + pd.DateOffset(months=6)\n",
    "\n",
    "df_filtered = df_filtered[(df_filtered['TD'] >= start_date) & (df_filtered['TD'] < end_date)]\n",
    "\n",
    "# Групування по користувачам та підрахунок загального доходу за 6 місяців\n",
    "ltv_6_months_per_user = df_filtered.groupby('customer_id')['revenue_usd'].sum().reset_index()\n",
    "ltv_6_months_per_user = ltv_6_months_per_user.rename(columns={'revenue_usd': 'LTV'})\n",
    "ltv_6_months_per_user\n"
   ]
  },
  {
   "cell_type": "code",
   "execution_count": 42,
   "id": "760e6007",
   "metadata": {},
   "outputs": [
    {
     "data": {
      "image/png": "[encoded data removed]",
      "text/plain": [
       "<Figure size 1200x600 with 1 Axes>"
      ]
     },
     "metadata": {},
     "output_type": "display_data"
    }
   ],
   "source": [
    "df_filtered['month'] = df_filtered['TD'].dt.to_period('M')\n",
    "\n",
    "start_date = df_filtered['rd'].min()\n",
    "end_date = df_filtered['TD'].max()\n",
    "periods = pd.period_range(start=start_date.to_period('M').start_time, end=end_date.to_period('M').end_time, freq='M')\n",
    "\n",
    "ltv_data = []\n",
    "\n",
    "for period in periods:\n",
    "\n",
    "    period_start = period.start_time\n",
    "    period_end = period.end_time\n",
    "    \n",
    "    period_data = df_filtered[(df_filtered['TD'] >= period_start) & (df_filtered['TD'] <= period_end)]\n",
    "    \n",
    "    # Розрахунок LTV для кожного користувача\n",
    "    ltv_per_user = period_data.groupby('customer_id')['revenue_usd'].sum().reset_index()\n",
    "    ltv_per_user['month'] = period\n",
    "    \n",
    "    ltv_data.append(ltv_per_user)\n",
    "\n",
    "ltv_df = pd.concat(ltv_data)\n",
    "ltv_df = ltv_df.groupby('month')['revenue_usd'].sum().reset_index()\n",
    "\n",
    "plt.figure(figsize=(12, 6))\n",
    "plt.plot(ltv_df['month'].astype(str), ltv_df['revenue_usd'], marker='o', linestyle='-')\n",
    "plt.title('LTV Curve')\n",
    "plt.xlabel('Month')\n",
    "plt.ylabel('LTV ($)')\n",
    "plt.xticks(rotation=45)\n",
    "plt.grid(True)\n",
    "plt.tight_layout()\n",
    "plt.show()"
   ]
  },
  {
   "cell_type": "code",
   "execution_count": null,
   "id": "894aae77",
   "metadata": {},
   "outputs": [],
   "source": []
  }
 ],
 "metadata": {
  "kernelspec": {
   "display_name": "Python 3 (ipykernel)",
   "language": "python",
   "name": "python3"
  },
  "language_info": {
   "codemirror_mode": {
    "name": "ipython",
    "version": 3
   },
   "file_extension": ".py",
   "mimetype": "text/x-python",
   "name": "python",
   "nbconvert_exporter": "python",
   "pygments_lexer": "ipython3",
   "version": "3.11.5"
  }
 },
 "nbformat": 4,
 "nbformat_minor": 5
}
