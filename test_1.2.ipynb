{
 "cells": [
  {
   "cell_type": "code",
   "execution_count": 1,
   "id": "bb8939c4",
   "metadata": {},
   "outputs": [],
   "source": [
    "import numpy as np\n",
    "import pandas as pd\n",
    "import math\n",
    "import matplotlib.pyplot as plt\n",
    "import seaborn as sns"
   ]
  },
  {
   "cell_type": "code",
   "execution_count": 2,
   "id": "23e5f2f6",
   "metadata": {},
   "outputs": [],
   "source": [
    "path_to_file = 'C:/Users/olran/Desktop/test1.xlsx'"
   ]
  },
  {
   "cell_type": "code",
   "execution_count": 3,
   "id": "5f8ab00e",
   "metadata": {},
   "outputs": [],
   "source": [
    "xl = pd.ExcelFile(path_to_file)\n",
    "df_test1 = xl.parse('Аркуш1')"
   ]
  },
  {
   "cell_type": "code",
   "execution_count": 5,
   "id": "15bc1821",
   "metadata": {},
   "outputs": [],
   "source": [
    "df_test1['Commission'] = df_test1['Gross'] - df_test1['Net']"
   ]
  },
  {
   "cell_type": "code",
   "execution_count": 10,
   "id": "095e8a84",
   "metadata": {},
   "outputs": [
    {
     "data": {
      "text/plain": [
       "0.6949765512265514"
      ]
     },
     "execution_count": 10,
     "metadata": {},
     "output_type": "execute_result"
    }
   ],
   "source": [
    "df_test1['Commission'].mean()"
   ]
  },
  {
   "cell_type": "code",
   "execution_count": null,
   "id": "1fc69920",
   "metadata": {},
   "outputs": [],
   "source": []
  }
 ],
 "metadata": {
  "kernelspec": {
   "display_name": "Python 3 (ipykernel)",
   "language": "python",
   "name": "python3"
  },
  "language_info": {
   "codemirror_mode": {
    "name": "ipython",
    "version": 3
   },
   "file_extension": ".py",
   "mimetype": "text/x-python",
   "name": "python",
   "nbconvert_exporter": "python",
   "pygments_lexer": "ipython3",
   "version": "3.11.5"
  }
 },
 "nbformat": 4,
 "nbformat_minor": 5
}
