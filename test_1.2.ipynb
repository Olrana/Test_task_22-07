{
 "cells": [
  {
   "cell_type": "code",
   "execution_count": 1,
   "id": "dcc6e726",
   "metadata": {},
   "outputs": [],
   "source": [
    "import numpy as np\n",
    "import pandas as pd\n",
    "import math\n",
    "import matplotlib.pyplot as plt\n",
    "import seaborn as sns"
   ]
  },
  {
   "cell_type": "code",
   "execution_count": 2,
   "id": "5845e015",
   "metadata": {},
   "outputs": [],
   "source": [
    "path_to_file = 'C:/Users/olran/Desktop/test1.xlsx'"
   ]
  },
  {
   "cell_type": "code",
   "execution_count": 3,
   "id": "37418db5",
   "metadata": {},
   "outputs": [],
   "source": [
    "xl = pd.ExcelFile(path_to_file)\n",
    "df_test1 = xl.parse('Аркуш1')"
   ]
  },
  {
   "cell_type": "code",
   "execution_count": 5,
   "id": "c96f859e",
   "metadata": {},
   "outputs": [],
   "source": [
    "df_test1['Commission'] = df_test1['Gross'] - df_test1['Net']"
   ]
  },
  {
   "cell_type": "code",
   "execution_count": 10,
   "id": "572acdec",
   "metadata": {},
   "outputs": [
    {
     "data": {
      "text/plain": [
       "0.6949765512265514"
      ]
     },
     "execution_count": 10,
     "metadata": {},
     "output_type": "execute_result"
    }
   ],
   "source": [
    "df_test1['Commission'].mean()"
   ]
  },
  {
   "cell_type": "code",
   "execution_count": 16,
   "id": "5badb693",
   "metadata": {},
   "outputs": [],
   "source": [
    "total_commission = df_test1.groupby('Service_Name')['Commission'].sum()\n",
    "num_of_customers_by_serv = df_test1.groupby('Service_Name')['id'].count()"
   ]
  },
  {
   "cell_type": "code",
   "execution_count": 17,
   "id": "7a233c0e",
   "metadata": {},
   "outputs": [
    {
     "data": {
      "text/plain": [
       "Service_Name\n",
       "name_1    1.066486\n",
       "name_2    1.016524\n",
       "name_3    1.968947\n",
       "name_4    0.729735\n",
       "name_5    0.000000\n",
       "name_6    0.199735\n",
       "name_7    1.263942\n",
       "name_8    4.181481\n",
       "dtype: float64"
      ]
     },
     "execution_count": 17,
     "metadata": {},
     "output_type": "execute_result"
    }
   ],
   "source": [
    "result = total_commission/num_of_customers_by_serv\n",
    "result"
   ]
  },
  {
   "cell_type": "code",
   "execution_count": 23,
   "id": "4a3ba091",
   "metadata": {},
   "outputs": [
    {
     "data": {
      "text/plain": [
       "Service_Name\n",
       "name_1    14.0\n",
       "name_2    15.0\n",
       "name_3     0.0\n",
       "name_4     5.0\n",
       "name_5     0.0\n",
       "name_6     9.0\n",
       "name_7     2.0\n",
       "name_8     0.0\n",
       "Name: Period, dtype: float64"
      ]
     },
     "execution_count": 23,
     "metadata": {},
     "output_type": "execute_result"
    }
   ],
   "source": [
    "#Середня тривалість підписки\n",
    "average_subscription_period = df_test1.groupby('Service_Name')['Period'].mean()\n",
    "average_subscription_period.round()"
   ]
  },
  {
   "cell_type": "code",
   "execution_count": null,
   "id": "728b606f",
   "metadata": {},
   "outputs": [],
   "source": []
  }
 ],
 "metadata": {
  "kernelspec": {
   "display_name": "Python 3 (ipykernel)",
   "language": "python",
   "name": "python3"
  },
  "language_info": {
   "codemirror_mode": {
    "name": "ipython",
    "version": 3
   },
   "file_extension": ".py",
   "mimetype": "text/x-python",
   "name": "python",
   "nbconvert_exporter": "python",
   "pygments_lexer": "ipython3",
   "version": "3.11.5"
  }
 },
 "nbformat": 4,
 "nbformat_minor": 5
}
