{
 "cells": [
  {
   "cell_type": "code",
   "execution_count": 45,
   "id": "1e852978",
   "metadata": {},
   "outputs": [],
   "source": [
    "import numpy as np\n",
    "import pandas as pd\n",
    "import math\n",
    "import matplotlib.pyplot as plt\n",
    "import seaborn as sns\n",
    "from scipy.stats import chi2_contingency"
   ]
  },
  {
   "cell_type": "code",
   "execution_count": 6,
   "id": "161cd6ad",
   "metadata": {},
   "outputs": [],
   "source": [
    "path_to_file = 'C:/Users/olran/Desktop/Appflame_test/test3.xlsx'"
   ]
  },
  {
   "cell_type": "code",
   "execution_count": 7,
   "id": "cb127e56",
   "metadata": {},
   "outputs": [],
   "source": [
    "xl = pd.ExcelFile(path_to_file)\n",
    "df_test3 = xl.parse('Аркуш1')"
   ]
  },
  {
   "cell_type": "code",
   "execution_count": 9,
   "id": "0a0ddae9",
   "metadata": {},
   "outputs": [
    {
     "data": {
      "text/plain": [
       "sender_id               int64\n",
       "platform_id             int64\n",
       "time_stamp     datetime64[ns]\n",
       "gender                 object\n",
       "reg_date       datetime64[ns]\n",
       "dtype: object"
      ]
     },
     "metadata": {},
     "output_type": "display_data"
    },
    {
     "data": {
      "text/plain": [
       "(768439, 5)"
      ]
     },
     "metadata": {},
     "output_type": "display_data"
    }
   ],
   "source": [
    "display( df_test3.dtypes, df_test3.shape)"
   ]
  },
  {
   "cell_type": "code",
   "execution_count": 10,
   "id": "55d97914",
   "metadata": {},
   "outputs": [
    {
     "data": {
      "text/html": [
       "<div>\n",
       "<style scoped>\n",
       "    .dataframe tbody tr th:only-of-type {\n",
       "        vertical-align: middle;\n",
       "    }\n",
       "\n",
       "    .dataframe tbody tr th {\n",
       "        vertical-align: top;\n",
       "    }\n",
       "\n",
       "    .dataframe thead th {\n",
       "        text-align: right;\n",
       "    }\n",
       "</style>\n",
       "<table border=\"1\" class=\"dataframe\">\n",
       "  <thead>\n",
       "    <tr style=\"text-align: right;\">\n",
       "      <th></th>\n",
       "      <th>sender_id</th>\n",
       "      <th>platform_id</th>\n",
       "      <th>time_stamp</th>\n",
       "      <th>gender</th>\n",
       "      <th>reg_date</th>\n",
       "    </tr>\n",
       "  </thead>\n",
       "  <tbody>\n",
       "    <tr>\n",
       "      <th>0</th>\n",
       "      <td>3207526951</td>\n",
       "      <td>6</td>\n",
       "      <td>2017-03-16 13:35:00</td>\n",
       "      <td>m</td>\n",
       "      <td>2017-01-26</td>\n",
       "    </tr>\n",
       "    <tr>\n",
       "      <th>1</th>\n",
       "      <td>3207526951</td>\n",
       "      <td>6</td>\n",
       "      <td>2017-03-16 09:09:00</td>\n",
       "      <td>m</td>\n",
       "      <td>2017-01-26</td>\n",
       "    </tr>\n",
       "    <tr>\n",
       "      <th>2</th>\n",
       "      <td>3207526951</td>\n",
       "      <td>6</td>\n",
       "      <td>2017-03-16 09:09:00</td>\n",
       "      <td>m</td>\n",
       "      <td>2017-01-26</td>\n",
       "    </tr>\n",
       "    <tr>\n",
       "      <th>3</th>\n",
       "      <td>3207526951</td>\n",
       "      <td>6</td>\n",
       "      <td>2017-03-16 12:13:00</td>\n",
       "      <td>m</td>\n",
       "      <td>2017-01-26</td>\n",
       "    </tr>\n",
       "    <tr>\n",
       "      <th>4</th>\n",
       "      <td>3207526951</td>\n",
       "      <td>6</td>\n",
       "      <td>2017-03-15 14:01:00</td>\n",
       "      <td>m</td>\n",
       "      <td>2017-01-26</td>\n",
       "    </tr>\n",
       "    <tr>\n",
       "      <th>...</th>\n",
       "      <td>...</td>\n",
       "      <td>...</td>\n",
       "      <td>...</td>\n",
       "      <td>...</td>\n",
       "      <td>...</td>\n",
       "    </tr>\n",
       "    <tr>\n",
       "      <th>768434</th>\n",
       "      <td>3208782485</td>\n",
       "      <td>6</td>\n",
       "      <td>2017-03-23 01:11:00</td>\n",
       "      <td>m</td>\n",
       "      <td>2017-02-01</td>\n",
       "    </tr>\n",
       "    <tr>\n",
       "      <th>768435</th>\n",
       "      <td>3208782485</td>\n",
       "      <td>6</td>\n",
       "      <td>2017-03-23 01:11:00</td>\n",
       "      <td>m</td>\n",
       "      <td>2017-02-01</td>\n",
       "    </tr>\n",
       "    <tr>\n",
       "      <th>768436</th>\n",
       "      <td>3208782485</td>\n",
       "      <td>6</td>\n",
       "      <td>2017-03-23 01:10:00</td>\n",
       "      <td>m</td>\n",
       "      <td>2017-02-01</td>\n",
       "    </tr>\n",
       "    <tr>\n",
       "      <th>768437</th>\n",
       "      <td>3208782485</td>\n",
       "      <td>6</td>\n",
       "      <td>2017-03-23 01:10:00</td>\n",
       "      <td>m</td>\n",
       "      <td>2017-02-01</td>\n",
       "    </tr>\n",
       "    <tr>\n",
       "      <th>768438</th>\n",
       "      <td>3208782485</td>\n",
       "      <td>6</td>\n",
       "      <td>2017-03-23 01:11:00</td>\n",
       "      <td>m</td>\n",
       "      <td>2017-02-01</td>\n",
       "    </tr>\n",
       "  </tbody>\n",
       "</table>\n",
       "<p>768439 rows × 5 columns</p>\n",
       "</div>"
      ],
      "text/plain": [
       "         sender_id  platform_id          time_stamp gender   reg_date\n",
       "0       3207526951            6 2017-03-16 13:35:00      m 2017-01-26\n",
       "1       3207526951            6 2017-03-16 09:09:00      m 2017-01-26\n",
       "2       3207526951            6 2017-03-16 09:09:00      m 2017-01-26\n",
       "3       3207526951            6 2017-03-16 12:13:00      m 2017-01-26\n",
       "4       3207526951            6 2017-03-15 14:01:00      m 2017-01-26\n",
       "...            ...          ...                 ...    ...        ...\n",
       "768434  3208782485            6 2017-03-23 01:11:00      m 2017-02-01\n",
       "768435  3208782485            6 2017-03-23 01:11:00      m 2017-02-01\n",
       "768436  3208782485            6 2017-03-23 01:10:00      m 2017-02-01\n",
       "768437  3208782485            6 2017-03-23 01:10:00      m 2017-02-01\n",
       "768438  3208782485            6 2017-03-23 01:11:00      m 2017-02-01\n",
       "\n",
       "[768439 rows x 5 columns]"
      ]
     },
     "execution_count": 10,
     "metadata": {},
     "output_type": "execute_result"
    }
   ],
   "source": [
    "df_test3"
   ]
  },
  {
   "cell_type": "code",
   "execution_count": 16,
   "id": "6d38c1de",
   "metadata": {},
   "outputs": [],
   "source": [
    "df_test3['group'] = df_test3 ['sender_id'] % 2\n",
    "#Створення нової колонки, де 0 - це група А, де нічого не змінилось, а 1 - група В, де були проведені зміни"
   ]
  },
  {
   "cell_type": "code",
   "execution_count": 18,
   "id": "79692768",
   "metadata": {},
   "outputs": [
    {
     "data": {
      "text/plain": [
       "group\n",
       "0    385684\n",
       "1    382755\n",
       "Name: count, dtype: int64"
      ]
     },
     "execution_count": 18,
     "metadata": {},
     "output_type": "execute_result"
    }
   ],
   "source": [
    "df_test3['group'].value_counts()"
   ]
  },
  {
   "cell_type": "code",
   "execution_count": 19,
   "id": "6ca64f07",
   "metadata": {},
   "outputs": [],
   "source": [
    "test_start_time = pd.Timestamp('2017-03-24 16:00:00')\n",
    "#Задано час відліку: до та після"
   ]
  },
  {
   "cell_type": "code",
   "execution_count": 21,
   "id": "4907103a",
   "metadata": {},
   "outputs": [],
   "source": [
    "df_test3['period'] = None\n",
    "\n",
    "df_test3.loc[df_test3['time_stamp'] < test_start_time, 'period'] = 'before'\n",
    "df_test3.loc[df_test3['time_stamp'] >= test_start_time, 'period'] = 'after'"
   ]
  },
  {
   "cell_type": "code",
   "execution_count": 24,
   "id": "4615af00",
   "metadata": {},
   "outputs": [
    {
     "data": {
      "text/plain": [
       "period\n",
       "before    660847\n",
       "after     107592\n",
       "Name: count, dtype: int64"
      ]
     },
     "execution_count": 24,
     "metadata": {},
     "output_type": "execute_result"
    }
   ],
   "source": [
    "df_test3['period'].value_counts()"
   ]
  },
  {
   "cell_type": "code",
   "execution_count": 25,
   "id": "e4709cfc",
   "metadata": {},
   "outputs": [
    {
     "data": {
      "text/plain": [
       "group\n",
       "0    385684\n",
       "1    382755\n",
       "Name: period, dtype: int64"
      ]
     },
     "execution_count": 25,
     "metadata": {},
     "output_type": "execute_result"
    }
   ],
   "source": [
    "df_test3.groupby('group')['period'].count()"
   ]
  },
  {
   "cell_type": "code",
   "execution_count": 36,
   "id": "f2918ae1",
   "metadata": {},
   "outputs": [
    {
     "data": {
      "text/plain": [
       "group  period\n",
       "0      after      57628\n",
       "       before    328056\n",
       "1      after      49964\n",
       "       before    332791\n",
       "dtype: int64"
      ]
     },
     "execution_count": 36,
     "metadata": {},
     "output_type": "execute_result"
    }
   ],
   "source": [
    "grouped_data = df_test3.groupby(['group', 'period']).size()\n",
    "grouped_data\n",
    "#Кількість лайків для кожної групи та періоду"
   ]
  },
  {
   "cell_type": "code",
   "execution_count": 48,
   "id": "d03508ed",
   "metadata": {},
   "outputs": [
    {
     "data": {
      "text/html": [
       "<div>\n",
       "<style scoped>\n",
       "    .dataframe tbody tr th:only-of-type {\n",
       "        vertical-align: middle;\n",
       "    }\n",
       "\n",
       "    .dataframe tbody tr th {\n",
       "        vertical-align: top;\n",
       "    }\n",
       "\n",
       "    .dataframe thead th {\n",
       "        text-align: right;\n",
       "    }\n",
       "</style>\n",
       "<table border=\"1\" class=\"dataframe\">\n",
       "  <thead>\n",
       "    <tr style=\"text-align: right;\">\n",
       "      <th></th>\n",
       "      <th>group</th>\n",
       "      <th>likes_before</th>\n",
       "      <th>likes_after</th>\n",
       "    </tr>\n",
       "  </thead>\n",
       "  <tbody>\n",
       "    <tr>\n",
       "      <th>0</th>\n",
       "      <td>test</td>\n",
       "      <td>332791</td>\n",
       "      <td>49964</td>\n",
       "    </tr>\n",
       "    <tr>\n",
       "      <th>1</th>\n",
       "      <td>control</td>\n",
       "      <td>328056</td>\n",
       "      <td>57628</td>\n",
       "    </tr>\n",
       "  </tbody>\n",
       "</table>\n",
       "</div>"
      ],
      "text/plain": [
       "     group  likes_before  likes_after\n",
       "0     test        332791        49964\n",
       "1  control        328056        57628"
      ]
     },
     "execution_count": 48,
     "metadata": {},
     "output_type": "execute_result"
    }
   ],
   "source": [
    "#Більш привабливий варіант\n",
    "test_likes_before = grouped_data.loc[1, 'before']\n",
    "test_likes_after = grouped_data.loc[1, 'after']\n",
    "\n",
    "control_likes_before = grouped_data.loc[0, 'before']\n",
    "control_likes_after = grouped_data.loc[0, 'after']\n",
    "\n",
    "summary = pd.DataFrame({\n",
    "    'group': ['test', 'control'],\n",
    "    'likes_before': [test_likes_before, control_likes_before],\n",
    "    'likes_after': [test_likes_after, control_likes_after]\n",
    "})\n",
    "summary"
   ]
  },
  {
   "cell_type": "code",
   "execution_count": 42,
   "id": "748a09f5",
   "metadata": {},
   "outputs": [],
   "source": [
    "observed = [[test_likes_before, test_likes_after],\n",
    "            [control_likes_before, control_likes_after]]"
   ]
  },
  {
   "cell_type": "code",
   "execution_count": 49,
   "id": "450f7de0",
   "metadata": {},
   "outputs": [
    {
     "data": {
      "image/png": "[encoded data removed]",
      "text/plain": [
       "<Figure size 1000x600 with 1 Axes>"
      ]
     },
     "metadata": {},
     "output_type": "display_data"
    },
    {
     "name": "stdout",
     "output_type": "stream",
     "text": [
      "Reject the null hypothesis. There is a significant difference between the groups.\n"
     ]
    }
   ],
   "source": [
    "chi2, p, _, _ = chi2_contingency(observed)\n",
    "\n",
    "significance_level = 0.05\n",
    "result = 'Reject the null hypothesis. There is a significant difference between the groups.' if p < significance_level else 'Fail to reject the null hypothesis. No significant difference between the groups.'\n",
    "\n",
    "fig, ax = plt.subplots(figsize=(10, 6))\n",
    "summary.plot(x='group', y=['likes_before', 'likes_after'], kind='bar', ax=ax)\n",
    "plt.title('Number of Likes Before and After Test')\n",
    "plt.xlabel('Group')\n",
    "plt.ylabel('Number of Likes')\n",
    "plt.xticks(rotation=45)\n",
    "plt.grid(True)\n",
    "plt.show()\n",
    "\n",
    "print(result)\n"
   ]
  },
  {
   "cell_type": "code",
   "execution_count": null,
   "id": "b03880c2",
   "metadata": {},
   "outputs": [],
   "source": []
  }
 ],
 "metadata": {
  "kernelspec": {
   "display_name": "Python 3 (ipykernel)",
   "language": "python",
   "name": "python3"
  },
  "language_info": {
   "codemirror_mode": {
    "name": "ipython",
    "version": 3
   },
   "file_extension": ".py",
   "mimetype": "text/x-python",
   "name": "python",
   "nbconvert_exporter": "python",
   "pygments_lexer": "ipython3",
   "version": "3.11.5"
  }
 },
 "nbformat": 4,
 "nbformat_minor": 5
}
